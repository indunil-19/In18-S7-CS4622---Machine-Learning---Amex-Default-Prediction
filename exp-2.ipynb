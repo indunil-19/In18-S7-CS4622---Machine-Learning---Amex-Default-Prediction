{
 "cells": [
  {
   "cell_type": "code",
   "execution_count": 1,
   "id": "a9be3caf",
   "metadata": {
    "_cell_guid": "b1076dfc-b9ad-4769-8c92-a6c4dae69d19",
    "_uuid": "8f2839f25d086af736a60e9eeb907d3b93b6e0e5",
    "execution": {
     "iopub.execute_input": "2023-01-01T16:02:57.945033Z",
     "iopub.status.busy": "2023-01-01T16:02:57.943795Z",
     "iopub.status.idle": "2023-01-01T16:02:59.260939Z",
     "shell.execute_reply": "2023-01-01T16:02:59.259992Z"
    },
    "papermill": {
     "duration": 1.329602,
     "end_time": "2023-01-01T16:02:59.264166",
     "exception": false,
     "start_time": "2023-01-01T16:02:57.934564",
     "status": "completed"
    },
    "tags": []
   },
   "outputs": [],
   "source": [
    "import pandas as pd\n",
    "import numpy as np\n",
    "import matplotlib.pyplot as plt\n",
    "import seaborn as sns\n",
    "\n",
    "\n",
    "#preprocesing\n",
    "from sklearn.preprocessing import LabelEncoder\n",
    "\n",
    "from sklearn.model_selection import train_test_split\n",
    "from sklearn.linear_model import LogisticRegression\n",
    "from sklearn.linear_model import LinearRegression\n",
    "\n",
    "from xgboost.sklearn import XGBRegressor\n",
    "from sklearn.model_selection import GridSearchCV\n",
    "\n",
    "# Removing warnings\n",
    "\n",
    "\n",
    "\n",
    "import warnings\n",
    "warnings.filterwarnings('ignore')\n",
    "\n",
    "# Storing plots\n",
    "\n",
    "%matplotlib inline"
   ]
  },
  {
   "cell_type": "code",
   "execution_count": 2,
   "id": "f03371b3",
   "metadata": {
    "execution": {
     "iopub.execute_input": "2023-01-01T16:02:59.283681Z",
     "iopub.status.busy": "2023-01-01T16:02:59.283361Z",
     "iopub.status.idle": "2023-01-01T16:03:18.840487Z",
     "shell.execute_reply": "2023-01-01T16:03:18.839482Z"
    },
    "papermill": {
     "duration": 19.569604,
     "end_time": "2023-01-01T16:03:18.843323",
     "exception": false,
     "start_time": "2023-01-01T16:02:59.273719",
     "status": "completed"
    },
    "tags": []
   },
   "outputs": [],
   "source": [
    "train_dataset_ = pd.read_feather('/kaggle/input/amexfeather/train_data.ftr')"
   ]
  },
  {
   "cell_type": "code",
   "execution_count": 3,
   "id": "494d81d5",
   "metadata": {
    "execution": {
     "iopub.execute_input": "2023-01-01T16:03:18.856105Z",
     "iopub.status.busy": "2023-01-01T16:03:18.855786Z",
     "iopub.status.idle": "2023-01-01T16:03:21.987879Z",
     "shell.execute_reply": "2023-01-01T16:03:21.986798Z"
    },
    "papermill": {
     "duration": 3.141645,
     "end_time": "2023-01-01T16:03:21.990929",
     "exception": false,
     "start_time": "2023-01-01T16:03:18.849284",
     "status": "completed"
    },
    "tags": []
   },
   "outputs": [],
   "source": [
    "# Keep the latest statement features for each customer\n",
    "train_dataset = train_dataset_.groupby('customer_ID').tail(1).set_index('customer_ID', drop=True).sort_index()"
   ]
  },
  {
   "cell_type": "code",
   "execution_count": 4,
   "id": "bc46a351",
   "metadata": {
    "execution": {
     "iopub.execute_input": "2023-01-01T16:03:22.003838Z",
     "iopub.status.busy": "2023-01-01T16:03:22.003541Z",
     "iopub.status.idle": "2023-01-01T16:03:22.556161Z",
     "shell.execute_reply": "2023-01-01T16:03:22.555152Z"
    },
    "papermill": {
     "duration": 0.561791,
     "end_time": "2023-01-01T16:03:22.558762",
     "exception": false,
     "start_time": "2023-01-01T16:03:21.996971",
     "status": "completed"
    },
    "tags": []
   },
   "outputs": [],
   "source": [
    "min_null_count =  int(((100-25)/100)*train_dataset.shape[0] + 1)\n",
    "train_dataset = train_dataset.dropna( axis=1, \n",
    "                thresh=min_null_count)"
   ]
  },
  {
   "cell_type": "code",
   "execution_count": 5,
   "id": "0523bd33",
   "metadata": {
    "execution": {
     "iopub.execute_input": "2023-01-01T16:03:22.571519Z",
     "iopub.status.busy": "2023-01-01T16:03:22.571189Z",
     "iopub.status.idle": "2023-01-01T16:03:22.806836Z",
     "shell.execute_reply": "2023-01-01T16:03:22.805826Z"
    },
    "papermill": {
     "duration": 0.244719,
     "end_time": "2023-01-01T16:03:22.809328",
     "exception": false,
     "start_time": "2023-01-01T16:03:22.564609",
     "status": "completed"
    },
    "tags": []
   },
   "outputs": [],
   "source": [
    "train_dataset.drop([\"S_2\"],axis=1,inplace=True)"
   ]
  },
  {
   "cell_type": "code",
   "execution_count": 6,
   "id": "825d8cab",
   "metadata": {
    "execution": {
     "iopub.execute_input": "2023-01-01T16:03:22.822686Z",
     "iopub.status.busy": "2023-01-01T16:03:22.822368Z",
     "iopub.status.idle": "2023-01-01T16:03:22.835145Z",
     "shell.execute_reply": "2023-01-01T16:03:22.834068Z"
    },
    "papermill": {
     "duration": 0.021775,
     "end_time": "2023-01-01T16:03:22.837544",
     "exception": false,
     "start_time": "2023-01-01T16:03:22.815769",
     "status": "completed"
    },
    "tags": []
   },
   "outputs": [
    {
     "data": {
      "text/plain": [
       "['D_63',\n",
       " 'D_64',\n",
       " 'D_68',\n",
       " 'B_30',\n",
       " 'B_38',\n",
       " 'D_114',\n",
       " 'D_116',\n",
       " 'D_117',\n",
       " 'D_120',\n",
       " 'D_126']"
      ]
     },
     "execution_count": 6,
     "metadata": {},
     "output_type": "execute_result"
    }
   ],
   "source": [
    "categories=[]\n",
    "for categorical_column in train_dataset.select_dtypes(include=['category','object']).columns:\n",
    "    categories.append(categorical_column)\n",
    "categories"
   ]
  },
  {
   "cell_type": "code",
   "execution_count": 7,
   "id": "22c25817",
   "metadata": {
    "execution": {
     "iopub.execute_input": "2023-01-01T16:03:22.853106Z",
     "iopub.status.busy": "2023-01-01T16:03:22.851560Z",
     "iopub.status.idle": "2023-01-01T16:03:23.210197Z",
     "shell.execute_reply": "2023-01-01T16:03:23.209102Z"
    },
    "papermill": {
     "duration": 0.368069,
     "end_time": "2023-01-01T16:03:23.213151",
     "exception": false,
     "start_time": "2023-01-01T16:03:22.845082",
     "status": "completed"
    },
    "tags": []
   },
   "outputs": [],
   "source": [
    "enc = LabelEncoder()\n",
    "for categorical_column in train_dataset.select_dtypes(include=['category','object']).columns:\n",
    "    train_dataset[categorical_column]=enc.fit_transform(train_dataset[categorical_column])"
   ]
  },
  {
   "cell_type": "code",
   "execution_count": 8,
   "id": "18102580",
   "metadata": {
    "execution": {
     "iopub.execute_input": "2023-01-01T16:03:23.228912Z",
     "iopub.status.busy": "2023-01-01T16:03:23.227946Z",
     "iopub.status.idle": "2023-01-01T16:03:23.473002Z",
     "shell.execute_reply": "2023-01-01T16:03:23.471860Z"
    },
    "papermill": {
     "duration": 0.255725,
     "end_time": "2023-01-01T16:03:23.475857",
     "exception": false,
     "start_time": "2023-01-01T16:03:23.220132",
     "status": "completed"
    },
    "tags": []
   },
   "outputs": [],
   "source": [
    "for category in categories:\n",
    "    train_dataset[category]=train_dataset[category].fillna(train_dataset[category].mode())"
   ]
  },
  {
   "cell_type": "code",
   "execution_count": 9,
   "id": "0298e000",
   "metadata": {
    "execution": {
     "iopub.execute_input": "2023-01-01T16:03:23.489368Z",
     "iopub.status.busy": "2023-01-01T16:03:23.489015Z",
     "iopub.status.idle": "2023-01-01T16:03:25.077970Z",
     "shell.execute_reply": "2023-01-01T16:03:25.076820Z"
    },
    "papermill": {
     "duration": 1.598543,
     "end_time": "2023-01-01T16:03:25.080587",
     "exception": false,
     "start_time": "2023-01-01T16:03:23.482044",
     "status": "completed"
    },
    "tags": []
   },
   "outputs": [],
   "source": [
    "for column in train_dataset.columns:\n",
    "    if(column not in categories):\n",
    "#         print(column)\n",
    "        train_dataset[column]=train_dataset[column].fillna(train_dataset[column].median())"
   ]
  },
  {
   "cell_type": "code",
   "execution_count": 10,
   "id": "7cf9168f",
   "metadata": {
    "execution": {
     "iopub.execute_input": "2023-01-01T16:03:25.093722Z",
     "iopub.status.busy": "2023-01-01T16:03:25.093412Z",
     "iopub.status.idle": "2023-01-01T16:03:25.352389Z",
     "shell.execute_reply": "2023-01-01T16:03:25.351376Z"
    },
    "papermill": {
     "duration": 0.268588,
     "end_time": "2023-01-01T16:03:25.354982",
     "exception": false,
     "start_time": "2023-01-01T16:03:25.086394",
     "status": "completed"
    },
    "tags": []
   },
   "outputs": [],
   "source": [
    "X = train_dataset.iloc[:, :-1]\n",
    "y = train_dataset.iloc[:, -1:]"
   ]
  },
  {
   "cell_type": "code",
   "execution_count": 11,
   "id": "e1d9778e",
   "metadata": {
    "execution": {
     "iopub.execute_input": "2023-01-01T16:03:25.367794Z",
     "iopub.status.busy": "2023-01-01T16:03:25.367502Z",
     "iopub.status.idle": "2023-01-01T16:03:52.293183Z",
     "shell.execute_reply": "2023-01-01T16:03:52.292196Z"
    },
    "papermill": {
     "duration": 26.934714,
     "end_time": "2023-01-01T16:03:52.295468",
     "exception": false,
     "start_time": "2023-01-01T16:03:25.360754",
     "status": "completed"
    },
    "tags": []
   },
   "outputs": [
    {
     "data": {
      "text/plain": [
       "{'B_11',\n",
       " 'B_13',\n",
       " 'B_15',\n",
       " 'B_23',\n",
       " 'B_33',\n",
       " 'B_37',\n",
       " 'D_104',\n",
       " 'D_119',\n",
       " 'D_141',\n",
       " 'D_143',\n",
       " 'D_74',\n",
       " 'D_75',\n",
       " 'S_24',\n",
       " 'S_7'}"
      ]
     },
     "execution_count": 11,
     "metadata": {},
     "output_type": "execute_result"
    }
   ],
   "source": [
    "cor_matrix = X.corr()\n",
    "col_core = set()\n",
    "\n",
    "for i in range(len(cor_matrix.columns)):\n",
    "    for j in range(i):\n",
    "        if(cor_matrix.iloc[i, j] > 0.9):\n",
    "            col_name = cor_matrix.columns[i]\n",
    "            col_core.add(col_name)\n",
    "col_core"
   ]
  },
  {
   "cell_type": "code",
   "execution_count": 12,
   "id": "3dda4dcc",
   "metadata": {
    "execution": {
     "iopub.execute_input": "2023-01-01T16:03:52.309601Z",
     "iopub.status.busy": "2023-01-01T16:03:52.308658Z",
     "iopub.status.idle": "2023-01-01T16:03:52.554268Z",
     "shell.execute_reply": "2023-01-01T16:03:52.553263Z"
    },
    "papermill": {
     "duration": 0.255293,
     "end_time": "2023-01-01T16:03:52.556844",
     "exception": false,
     "start_time": "2023-01-01T16:03:52.301551",
     "status": "completed"
    },
    "tags": []
   },
   "outputs": [],
   "source": [
    "X = X.drop(col_core, axis=1)"
   ]
  },
  {
   "cell_type": "code",
   "execution_count": 13,
   "id": "8b4a739b",
   "metadata": {
    "execution": {
     "iopub.execute_input": "2023-01-01T16:03:52.569699Z",
     "iopub.status.busy": "2023-01-01T16:03:52.569390Z",
     "iopub.status.idle": "2023-01-01T16:03:53.406548Z",
     "shell.execute_reply": "2023-01-01T16:03:53.405545Z"
    },
    "papermill": {
     "duration": 0.846298,
     "end_time": "2023-01-01T16:03:53.409046",
     "exception": false,
     "start_time": "2023-01-01T16:03:52.562748",
     "status": "completed"
    },
    "tags": []
   },
   "outputs": [],
   "source": [
    "x_train, x_test, y_train, y_test = train_test_split(X,y,test_size=0.3, random_state=23)"
   ]
  },
  {
   "cell_type": "code",
   "execution_count": 14,
   "id": "fc25ca1e",
   "metadata": {
    "execution": {
     "iopub.execute_input": "2023-01-01T16:03:53.424468Z",
     "iopub.status.busy": "2023-01-01T16:03:53.422692Z",
     "iopub.status.idle": "2023-01-01T16:03:53.428040Z",
     "shell.execute_reply": "2023-01-01T16:03:53.427063Z"
    },
    "papermill": {
     "duration": 0.014733,
     "end_time": "2023-01-01T16:03:53.430057",
     "exception": false,
     "start_time": "2023-01-01T16:03:53.415324",
     "status": "completed"
    },
    "tags": []
   },
   "outputs": [],
   "source": [
    "# import lightgbm as lgb\n",
    "\n",
    "# d_train = lgb.Dataset(x_train, label=y_train, categorical_feature = categories)\n",
    "\n",
    "# params = {'objective': 'binary','n_estimators': 1200,'metric': 'binary_logloss','boosting': 'gbdt','num_leaves': 90,'reg_lambda' : 50,'colsample_bytree': 0.19,'learning_rate': 0.03,'min_child_samples': 2400,'max_bins': 511,'seed': 42,'verbose': -1}\n",
    "\n",
    "# # trained model with 100 iterations\n",
    "# model = lgb.train(params, d_train, 100)"
   ]
  },
  {
   "cell_type": "code",
   "execution_count": 15,
   "id": "a8db9570",
   "metadata": {
    "execution": {
     "iopub.execute_input": "2023-01-01T16:03:53.442916Z",
     "iopub.status.busy": "2023-01-01T16:03:53.442644Z",
     "iopub.status.idle": "2023-01-01T16:03:53.446847Z",
     "shell.execute_reply": "2023-01-01T16:03:53.445813Z"
    },
    "papermill": {
     "duration": 0.013442,
     "end_time": "2023-01-01T16:03:53.449220",
     "exception": false,
     "start_time": "2023-01-01T16:03:53.435778",
     "status": "completed"
    },
    "tags": []
   },
   "outputs": [],
   "source": [
    "# from sklearn import svm\n",
    "# model = svm.SVC(kernel='poly').fit(x_train, y_train)\n"
   ]
  },
  {
   "cell_type": "code",
   "execution_count": 16,
   "id": "eebb819a",
   "metadata": {
    "execution": {
     "iopub.execute_input": "2023-01-01T16:03:53.462020Z",
     "iopub.status.busy": "2023-01-01T16:03:53.461754Z",
     "iopub.status.idle": "2023-01-01T16:03:53.723393Z",
     "shell.execute_reply": "2023-01-01T16:03:53.722314Z"
    },
    "papermill": {
     "duration": 0.27085,
     "end_time": "2023-01-01T16:03:53.725938",
     "exception": false,
     "start_time": "2023-01-01T16:03:53.455088",
     "status": "completed"
    },
    "tags": []
   },
   "outputs": [],
   "source": [
    "#Import knearest neighbors Classifier model\n",
    "from sklearn.neighbors import KNeighborsClassifier\n",
    "\n",
    "#Create KNN Classifier\n",
    "model = KNeighborsClassifier(n_neighbors=11).fit(x_train, y_train)\n"
   ]
  },
  {
   "cell_type": "code",
   "execution_count": 17,
   "id": "a8d3bf4b",
   "metadata": {
    "execution": {
     "iopub.execute_input": "2023-01-01T16:03:53.739064Z",
     "iopub.status.busy": "2023-01-01T16:03:53.738731Z",
     "iopub.status.idle": "2023-01-01T16:04:34.584279Z",
     "shell.execute_reply": "2023-01-01T16:04:34.583293Z"
    },
    "papermill": {
     "duration": 40.855008,
     "end_time": "2023-01-01T16:04:34.586850",
     "exception": false,
     "start_time": "2023-01-01T16:03:53.731842",
     "status": "completed"
    },
    "tags": []
   },
   "outputs": [],
   "source": [
    "test_dataset_ = pd.read_feather('/kaggle/input/amexfeather/test_data.ftr')\n"
   ]
  },
  {
   "cell_type": "code",
   "execution_count": 18,
   "id": "4a561f23",
   "metadata": {
    "execution": {
     "iopub.execute_input": "2023-01-01T16:04:34.600217Z",
     "iopub.status.busy": "2023-01-01T16:04:34.599917Z",
     "iopub.status.idle": "2023-01-01T16:04:39.832399Z",
     "shell.execute_reply": "2023-01-01T16:04:39.831383Z"
    },
    "papermill": {
     "duration": 5.241771,
     "end_time": "2023-01-01T16:04:39.834811",
     "exception": false,
     "start_time": "2023-01-01T16:04:34.593040",
     "status": "completed"
    },
    "tags": []
   },
   "outputs": [],
   "source": [
    "test_dataset = test_dataset_.groupby('customer_ID').tail(1).set_index('customer_ID', drop=True).sort_index()"
   ]
  },
  {
   "cell_type": "code",
   "execution_count": 19,
   "id": "f18259d4",
   "metadata": {
    "execution": {
     "iopub.execute_input": "2023-01-01T16:04:39.848911Z",
     "iopub.status.busy": "2023-01-01T16:04:39.848618Z",
     "iopub.status.idle": "2023-01-01T16:04:39.853193Z",
     "shell.execute_reply": "2023-01-01T16:04:39.852161Z"
    },
    "papermill": {
     "duration": 0.014041,
     "end_time": "2023-01-01T16:04:39.855599",
     "exception": false,
     "start_time": "2023-01-01T16:04:39.841558",
     "status": "completed"
    },
    "tags": []
   },
   "outputs": [],
   "source": [
    "num_columns = [col for col in X.columns]"
   ]
  },
  {
   "cell_type": "code",
   "execution_count": 20,
   "id": "7373adc8",
   "metadata": {
    "execution": {
     "iopub.execute_input": "2023-01-01T16:04:39.868392Z",
     "iopub.status.busy": "2023-01-01T16:04:39.868089Z",
     "iopub.status.idle": "2023-01-01T16:04:40.267888Z",
     "shell.execute_reply": "2023-01-01T16:04:40.266891Z"
    },
    "papermill": {
     "duration": 0.409059,
     "end_time": "2023-01-01T16:04:40.270346",
     "exception": false,
     "start_time": "2023-01-01T16:04:39.861287",
     "status": "completed"
    },
    "tags": []
   },
   "outputs": [],
   "source": [
    "test_dataset=test_dataset[num_columns]"
   ]
  },
  {
   "cell_type": "code",
   "execution_count": 21,
   "id": "a98763e5",
   "metadata": {
    "execution": {
     "iopub.execute_input": "2023-01-01T16:04:40.283381Z",
     "iopub.status.busy": "2023-01-01T16:04:40.283063Z",
     "iopub.status.idle": "2023-01-01T16:04:41.046820Z",
     "shell.execute_reply": "2023-01-01T16:04:41.045806Z"
    },
    "papermill": {
     "duration": 0.773422,
     "end_time": "2023-01-01T16:04:41.049794",
     "exception": false,
     "start_time": "2023-01-01T16:04:40.276372",
     "status": "completed"
    },
    "tags": []
   },
   "outputs": [],
   "source": [
    "enc = LabelEncoder()\n",
    "for categorical_column in test_dataset.select_dtypes(include=['category','object']).columns:\n",
    "    test_dataset[categorical_column]=enc.fit_transform(test_dataset[categorical_column])"
   ]
  },
  {
   "cell_type": "code",
   "execution_count": 22,
   "id": "bdbfd244",
   "metadata": {
    "execution": {
     "iopub.execute_input": "2023-01-01T16:04:41.062864Z",
     "iopub.status.busy": "2023-01-01T16:04:41.062565Z",
     "iopub.status.idle": "2023-01-01T16:04:41.517054Z",
     "shell.execute_reply": "2023-01-01T16:04:41.515999Z"
    },
    "papermill": {
     "duration": 0.464241,
     "end_time": "2023-01-01T16:04:41.519998",
     "exception": false,
     "start_time": "2023-01-01T16:04:41.055757",
     "status": "completed"
    },
    "tags": []
   },
   "outputs": [],
   "source": [
    "for category in categories:\n",
    "    test_dataset[category]=test_dataset[category].fillna(test_dataset[category].mode())"
   ]
  },
  {
   "cell_type": "code",
   "execution_count": 23,
   "id": "baa79f6c",
   "metadata": {
    "execution": {
     "iopub.execute_input": "2023-01-01T16:04:41.533645Z",
     "iopub.status.busy": "2023-01-01T16:04:41.533334Z",
     "iopub.status.idle": "2023-01-01T16:04:44.341046Z",
     "shell.execute_reply": "2023-01-01T16:04:44.340084Z"
    },
    "papermill": {
     "duration": 2.817397,
     "end_time": "2023-01-01T16:04:44.343732",
     "exception": false,
     "start_time": "2023-01-01T16:04:41.526335",
     "status": "completed"
    },
    "tags": []
   },
   "outputs": [],
   "source": [
    "for column in test_dataset.columns:\n",
    "    if(column not in categories):\n",
    "#         print(column)\n",
    "        test_dataset[column]=test_dataset[column].fillna(test_dataset[column].median())"
   ]
  },
  {
   "cell_type": "code",
   "execution_count": 24,
   "id": "214a05a6",
   "metadata": {
    "execution": {
     "iopub.execute_input": "2023-01-01T16:04:44.356806Z",
     "iopub.status.busy": "2023-01-01T16:04:44.356505Z",
     "iopub.status.idle": "2023-01-01T17:54:35.369944Z",
     "shell.execute_reply": "2023-01-01T17:54:35.368855Z"
    },
    "papermill": {
     "duration": 6591.022757,
     "end_time": "2023-01-01T17:54:35.372599",
     "exception": false,
     "start_time": "2023-01-01T16:04:44.349842",
     "status": "completed"
    },
    "tags": []
   },
   "outputs": [],
   "source": [
    "y_pred = model.predict(test_dataset)"
   ]
  },
  {
   "cell_type": "code",
   "execution_count": 25,
   "id": "612edd54",
   "metadata": {
    "execution": {
     "iopub.execute_input": "2023-01-01T17:54:35.386712Z",
     "iopub.status.busy": "2023-01-01T17:54:35.386049Z",
     "iopub.status.idle": "2023-01-01T17:54:35.407175Z",
     "shell.execute_reply": "2023-01-01T17:54:35.406348Z"
    },
    "papermill": {
     "duration": 0.030089,
     "end_time": "2023-01-01T17:54:35.409274",
     "exception": false,
     "start_time": "2023-01-01T17:54:35.379185",
     "status": "completed"
    },
    "tags": []
   },
   "outputs": [],
   "source": [
    "output = pd.DataFrame({'customer_ID': test_dataset.index, 'prediction': y_pred})\n"
   ]
  },
  {
   "cell_type": "code",
   "execution_count": 26,
   "id": "e39775e8",
   "metadata": {
    "execution": {
     "iopub.execute_input": "2023-01-01T17:54:35.421940Z",
     "iopub.status.busy": "2023-01-01T17:54:35.421672Z",
     "iopub.status.idle": "2023-01-01T17:54:35.427278Z",
     "shell.execute_reply": "2023-01-01T17:54:35.426276Z"
    },
    "papermill": {
     "duration": 0.015129,
     "end_time": "2023-01-01T17:54:35.430198",
     "exception": false,
     "start_time": "2023-01-01T17:54:35.415069",
     "status": "completed"
    },
    "tags": []
   },
   "outputs": [
    {
     "name": "stdout",
     "output_type": "stream",
     "text": [
      "/kaggle/working\n"
     ]
    }
   ],
   "source": [
    "cd /kaggle/working/"
   ]
  },
  {
   "cell_type": "code",
   "execution_count": 27,
   "id": "cb0077cd",
   "metadata": {
    "execution": {
     "iopub.execute_input": "2023-01-01T17:54:35.442382Z",
     "iopub.status.busy": "2023-01-01T17:54:35.442112Z",
     "iopub.status.idle": "2023-01-01T17:54:36.845264Z",
     "shell.execute_reply": "2023-01-01T17:54:36.844287Z"
    },
    "papermill": {
     "duration": 1.412046,
     "end_time": "2023-01-01T17:54:36.847766",
     "exception": false,
     "start_time": "2023-01-01T17:54:35.435720",
     "status": "completed"
    },
    "tags": []
   },
   "outputs": [],
   "source": [
    "output.to_csv('submission9.csv', index=False)"
   ]
  },
  {
   "cell_type": "code",
   "execution_count": null,
   "id": "9fd6d410",
   "metadata": {
    "papermill": {
     "duration": 0.005917,
     "end_time": "2023-01-01T17:54:36.859931",
     "exception": false,
     "start_time": "2023-01-01T17:54:36.854014",
     "status": "completed"
    },
    "tags": []
   },
   "outputs": [],
   "source": []
  }
 ],
 "metadata": {
  "kernelspec": {
   "display_name": "Python 3",
   "language": "python",
   "name": "python3"
  },
  "language_info": {
   "codemirror_mode": {
    "name": "ipython",
    "version": 3
   },
   "file_extension": ".py",
   "mimetype": "text/x-python",
   "name": "python",
   "nbconvert_exporter": "python",
   "pygments_lexer": "ipython3",
   "version": "3.7.12"
  },
  "papermill": {
   "default_parameters": {},
   "duration": 6708.232375,
   "end_time": "2023-01-01T17:54:38.097155",
   "environment_variables": {},
   "exception": null,
   "input_path": "__notebook__.ipynb",
   "output_path": "__notebook__.ipynb",
   "parameters": {},
   "start_time": "2023-01-01T16:02:49.864780",
   "version": "2.3.4"
  }
 },
 "nbformat": 4,
 "nbformat_minor": 5
}
