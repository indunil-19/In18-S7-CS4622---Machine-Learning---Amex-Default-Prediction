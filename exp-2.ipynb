{
 "cells": [
  {
   "cell_type": "code",
   "execution_count": 1,
   "id": "d6787f4a",
   "metadata": {
    "_cell_guid": "b1076dfc-b9ad-4769-8c92-a6c4dae69d19",
    "_uuid": "8f2839f25d086af736a60e9eeb907d3b93b6e0e5",
    "execution": {
     "iopub.execute_input": "2023-01-13T13:13:42.166854Z",
     "iopub.status.busy": "2023-01-13T13:13:42.166419Z",
     "iopub.status.idle": "2023-01-13T13:13:43.739221Z",
     "shell.execute_reply": "2023-01-13T13:13:43.737560Z"
    },
    "papermill": {
     "duration": 1.584383,
     "end_time": "2023-01-13T13:13:43.742183",
     "exception": false,
     "start_time": "2023-01-13T13:13:42.157800",
     "status": "completed"
    },
    "tags": []
   },
   "outputs": [],
   "source": [
    "import pandas as pd\n",
    "import numpy as np\n",
    "import matplotlib.pyplot as plt\n",
    "import seaborn as sns\n",
    "\n",
    "\n",
    "#preprocesing\n",
    "from sklearn.preprocessing import LabelEncoder\n",
    "\n",
    "from sklearn.model_selection import train_test_split\n",
    "from sklearn.linear_model import LogisticRegression\n",
    "from sklearn.linear_model import LinearRegression\n",
    "\n",
    "from xgboost.sklearn import XGBRegressor\n",
    "from sklearn.model_selection import GridSearchCV\n",
    "\n",
    "# Removing warnings\n",
    "\n",
    "\n",
    "\n",
    "import warnings\n",
    "warnings.filterwarnings('ignore')\n",
    "\n",
    "# Storing plots\n",
    "\n",
    "%matplotlib inline"
   ]
  },
  {
   "cell_type": "code",
   "execution_count": 2,
   "id": "9ccec7c7",
   "metadata": {
    "execution": {
     "iopub.execute_input": "2023-01-13T13:13:43.756601Z",
     "iopub.status.busy": "2023-01-13T13:13:43.756224Z",
     "iopub.status.idle": "2023-01-13T13:14:04.082035Z",
     "shell.execute_reply": "2023-01-13T13:14:04.081017Z"
    },
    "papermill": {
     "duration": 20.335565,
     "end_time": "2023-01-13T13:14:04.084330",
     "exception": false,
     "start_time": "2023-01-13T13:13:43.748765",
     "status": "completed"
    },
    "tags": []
   },
   "outputs": [],
   "source": [
    "train_dataset_ = pd.read_feather('/kaggle/input/amexfeather/train_data.ftr')"
   ]
  },
  {
   "cell_type": "code",
   "execution_count": 3,
   "id": "27b733b8",
   "metadata": {
    "execution": {
     "iopub.execute_input": "2023-01-13T13:14:04.098717Z",
     "iopub.status.busy": "2023-01-13T13:14:04.098311Z",
     "iopub.status.idle": "2023-01-13T13:14:06.092529Z",
     "shell.execute_reply": "2023-01-13T13:14:06.091287Z"
    },
    "papermill": {
     "duration": 2.004712,
     "end_time": "2023-01-13T13:14:06.095361",
     "exception": false,
     "start_time": "2023-01-13T13:14:04.090649",
     "status": "completed"
    },
    "tags": []
   },
   "outputs": [],
   "source": [
    "# Keep the latest statement features for each customer\n",
    "train_dataset = train_dataset_.groupby('customer_ID').tail(1).set_index('customer_ID', drop=True).sort_index()"
   ]
  },
  {
   "cell_type": "code",
   "execution_count": 4,
   "id": "adf2c752",
   "metadata": {
    "execution": {
     "iopub.execute_input": "2023-01-13T13:14:06.109822Z",
     "iopub.status.busy": "2023-01-13T13:14:06.109448Z",
     "iopub.status.idle": "2023-01-13T13:14:06.452908Z",
     "shell.execute_reply": "2023-01-13T13:14:06.451065Z"
    },
    "papermill": {
     "duration": 0.354114,
     "end_time": "2023-01-13T13:14:06.455871",
     "exception": false,
     "start_time": "2023-01-13T13:14:06.101757",
     "status": "completed"
    },
    "tags": []
   },
   "outputs": [],
   "source": [
    "min_null_count =  int(((100-25)/100)*train_dataset.shape[0] + 1)\n",
    "train_dataset = train_dataset.dropna( axis=1, \n",
    "                thresh=min_null_count)"
   ]
  },
  {
   "cell_type": "code",
   "execution_count": 5,
   "id": "e23a4acf",
   "metadata": {
    "execution": {
     "iopub.execute_input": "2023-01-13T13:14:06.470119Z",
     "iopub.status.busy": "2023-01-13T13:14:06.469768Z",
     "iopub.status.idle": "2023-01-13T13:14:06.577021Z",
     "shell.execute_reply": "2023-01-13T13:14:06.575023Z"
    },
    "papermill": {
     "duration": 0.117454,
     "end_time": "2023-01-13T13:14:06.579615",
     "exception": false,
     "start_time": "2023-01-13T13:14:06.462161",
     "status": "completed"
    },
    "tags": []
   },
   "outputs": [],
   "source": [
    "train_dataset.drop([\"S_2\"],axis=1,inplace=True)"
   ]
  },
  {
   "cell_type": "code",
   "execution_count": 6,
   "id": "e0dc5288",
   "metadata": {
    "execution": {
     "iopub.execute_input": "2023-01-13T13:14:06.594892Z",
     "iopub.status.busy": "2023-01-13T13:14:06.594506Z",
     "iopub.status.idle": "2023-01-13T13:14:06.607660Z",
     "shell.execute_reply": "2023-01-13T13:14:06.606223Z"
    },
    "papermill": {
     "duration": 0.023614,
     "end_time": "2023-01-13T13:14:06.609396",
     "exception": false,
     "start_time": "2023-01-13T13:14:06.585782",
     "status": "completed"
    },
    "tags": []
   },
   "outputs": [
    {
     "data": {
      "text/plain": [
       "['D_63',\n",
       " 'D_64',\n",
       " 'D_68',\n",
       " 'B_30',\n",
       " 'B_38',\n",
       " 'D_114',\n",
       " 'D_116',\n",
       " 'D_117',\n",
       " 'D_120',\n",
       " 'D_126']"
      ]
     },
     "execution_count": 6,
     "metadata": {},
     "output_type": "execute_result"
    }
   ],
   "source": [
    "categories=[]\n",
    "for categorical_column in train_dataset.select_dtypes(include=['category','object']).columns:\n",
    "    categories.append(categorical_column)\n",
    "categories"
   ]
  },
  {
   "cell_type": "code",
   "execution_count": 7,
   "id": "4824944d",
   "metadata": {
    "execution": {
     "iopub.execute_input": "2023-01-13T13:14:06.623636Z",
     "iopub.status.busy": "2023-01-13T13:14:06.623230Z",
     "iopub.status.idle": "2023-01-13T13:14:06.994022Z",
     "shell.execute_reply": "2023-01-13T13:14:06.992919Z"
    },
    "papermill": {
     "duration": 0.380901,
     "end_time": "2023-01-13T13:14:06.996626",
     "exception": false,
     "start_time": "2023-01-13T13:14:06.615725",
     "status": "completed"
    },
    "tags": []
   },
   "outputs": [],
   "source": [
    "enc = LabelEncoder()\n",
    "for categorical_column in train_dataset.select_dtypes(include=['category','object']).columns:\n",
    "    train_dataset[categorical_column]=enc.fit_transform(train_dataset[categorical_column])"
   ]
  },
  {
   "cell_type": "code",
   "execution_count": 8,
   "id": "1a3816ce",
   "metadata": {
    "execution": {
     "iopub.execute_input": "2023-01-13T13:14:07.011449Z",
     "iopub.status.busy": "2023-01-13T13:14:07.011017Z",
     "iopub.status.idle": "2023-01-13T13:14:07.224946Z",
     "shell.execute_reply": "2023-01-13T13:14:07.223802Z"
    },
    "papermill": {
     "duration": 0.223989,
     "end_time": "2023-01-13T13:14:07.227144",
     "exception": false,
     "start_time": "2023-01-13T13:14:07.003155",
     "status": "completed"
    },
    "tags": []
   },
   "outputs": [],
   "source": [
    "for category in categories:\n",
    "    train_dataset[category]=train_dataset[category].fillna(train_dataset[category].mode())"
   ]
  },
  {
   "cell_type": "code",
   "execution_count": 9,
   "id": "28e9f9c8",
   "metadata": {
    "execution": {
     "iopub.execute_input": "2023-01-13T13:14:07.241722Z",
     "iopub.status.busy": "2023-01-13T13:14:07.240866Z",
     "iopub.status.idle": "2023-01-13T13:14:08.704184Z",
     "shell.execute_reply": "2023-01-13T13:14:08.703044Z"
    },
    "papermill": {
     "duration": 1.473293,
     "end_time": "2023-01-13T13:14:08.706798",
     "exception": false,
     "start_time": "2023-01-13T13:14:07.233505",
     "status": "completed"
    },
    "tags": []
   },
   "outputs": [],
   "source": [
    "for column in train_dataset.columns:\n",
    "    if(column not in categories):\n",
    "#         print(column)\n",
    "        train_dataset[column]=train_dataset[column].fillna(train_dataset[column].median())"
   ]
  },
  {
   "cell_type": "code",
   "execution_count": 10,
   "id": "285e6923",
   "metadata": {
    "execution": {
     "iopub.execute_input": "2023-01-13T13:14:08.722236Z",
     "iopub.status.busy": "2023-01-13T13:14:08.721832Z",
     "iopub.status.idle": "2023-01-13T13:14:08.838997Z",
     "shell.execute_reply": "2023-01-13T13:14:08.837844Z"
    },
    "papermill": {
     "duration": 0.12813,
     "end_time": "2023-01-13T13:14:08.841375",
     "exception": false,
     "start_time": "2023-01-13T13:14:08.713245",
     "status": "completed"
    },
    "tags": []
   },
   "outputs": [],
   "source": [
    "X = train_dataset.iloc[:, :-1]\n",
    "y = train_dataset.iloc[:, -1:]"
   ]
  },
  {
   "cell_type": "code",
   "execution_count": 11,
   "id": "b6ba7a25",
   "metadata": {
    "execution": {
     "iopub.execute_input": "2023-01-13T13:14:08.855573Z",
     "iopub.status.busy": "2023-01-13T13:14:08.855172Z",
     "iopub.status.idle": "2023-01-13T13:14:28.477599Z",
     "shell.execute_reply": "2023-01-13T13:14:28.476171Z"
    },
    "papermill": {
     "duration": 19.632704,
     "end_time": "2023-01-13T13:14:28.480396",
     "exception": false,
     "start_time": "2023-01-13T13:14:08.847692",
     "status": "completed"
    },
    "tags": []
   },
   "outputs": [
    {
     "data": {
      "text/plain": [
       "{'B_11',\n",
       " 'B_13',\n",
       " 'B_15',\n",
       " 'B_23',\n",
       " 'B_33',\n",
       " 'B_37',\n",
       " 'D_104',\n",
       " 'D_119',\n",
       " 'D_141',\n",
       " 'D_143',\n",
       " 'D_74',\n",
       " 'D_75',\n",
       " 'S_24',\n",
       " 'S_7'}"
      ]
     },
     "execution_count": 11,
     "metadata": {},
     "output_type": "execute_result"
    }
   ],
   "source": [
    "cor_matrix = X.corr()\n",
    "col_core = set()\n",
    "\n",
    "for i in range(len(cor_matrix.columns)):\n",
    "    for j in range(i):\n",
    "        if(cor_matrix.iloc[i, j] > 0.9):\n",
    "            col_name = cor_matrix.columns[i]\n",
    "            col_core.add(col_name)\n",
    "col_core"
   ]
  },
  {
   "cell_type": "code",
   "execution_count": 12,
   "id": "2f18190b",
   "metadata": {
    "execution": {
     "iopub.execute_input": "2023-01-13T13:14:28.495486Z",
     "iopub.status.busy": "2023-01-13T13:14:28.495158Z",
     "iopub.status.idle": "2023-01-13T13:14:28.603758Z",
     "shell.execute_reply": "2023-01-13T13:14:28.602221Z"
    },
    "papermill": {
     "duration": 0.118414,
     "end_time": "2023-01-13T13:14:28.606005",
     "exception": false,
     "start_time": "2023-01-13T13:14:28.487591",
     "status": "completed"
    },
    "tags": []
   },
   "outputs": [],
   "source": [
    "X = X.drop(col_core, axis=1)"
   ]
  },
  {
   "cell_type": "code",
   "execution_count": 13,
   "id": "2b43b7c3",
   "metadata": {
    "execution": {
     "iopub.execute_input": "2023-01-13T13:14:28.620744Z",
     "iopub.status.busy": "2023-01-13T13:14:28.620362Z",
     "iopub.status.idle": "2023-01-13T13:14:29.400934Z",
     "shell.execute_reply": "2023-01-13T13:14:29.399017Z"
    },
    "papermill": {
     "duration": 0.79095,
     "end_time": "2023-01-13T13:14:29.403720",
     "exception": false,
     "start_time": "2023-01-13T13:14:28.612770",
     "status": "completed"
    },
    "tags": []
   },
   "outputs": [],
   "source": [
    "x_train, x_test, y_train, y_test = train_test_split(X,y,test_size=0.3, random_state=23)"
   ]
  },
  {
   "cell_type": "code",
   "execution_count": 14,
   "id": "21f7a637",
   "metadata": {
    "execution": {
     "iopub.execute_input": "2023-01-13T13:14:29.418471Z",
     "iopub.status.busy": "2023-01-13T13:14:29.418143Z",
     "iopub.status.idle": "2023-01-13T13:14:29.677863Z",
     "shell.execute_reply": "2023-01-13T13:14:29.676605Z"
    },
    "papermill": {
     "duration": 0.270027,
     "end_time": "2023-01-13T13:14:29.680472",
     "exception": false,
     "start_time": "2023-01-13T13:14:29.410445",
     "status": "completed"
    },
    "tags": []
   },
   "outputs": [
    {
     "data": {
      "text/html": [
       "<div>\n",
       "<style scoped>\n",
       "    .dataframe tbody tr th:only-of-type {\n",
       "        vertical-align: middle;\n",
       "    }\n",
       "\n",
       "    .dataframe tbody tr th {\n",
       "        vertical-align: top;\n",
       "    }\n",
       "\n",
       "    .dataframe thead th {\n",
       "        text-align: right;\n",
       "    }\n",
       "</style>\n",
       "<table border=\"1\" class=\"dataframe\">\n",
       "  <thead>\n",
       "    <tr style=\"text-align: right;\">\n",
       "      <th></th>\n",
       "      <th>P_2</th>\n",
       "      <th>D_39</th>\n",
       "      <th>B_1</th>\n",
       "      <th>B_2</th>\n",
       "      <th>R_1</th>\n",
       "      <th>S_3</th>\n",
       "      <th>D_41</th>\n",
       "      <th>B_3</th>\n",
       "      <th>D_44</th>\n",
       "      <th>B_4</th>\n",
       "      <th>...</th>\n",
       "      <th>D_129</th>\n",
       "      <th>B_41</th>\n",
       "      <th>D_130</th>\n",
       "      <th>D_131</th>\n",
       "      <th>D_133</th>\n",
       "      <th>R_28</th>\n",
       "      <th>D_139</th>\n",
       "      <th>D_140</th>\n",
       "      <th>D_144</th>\n",
       "      <th>D_145</th>\n",
       "    </tr>\n",
       "    <tr>\n",
       "      <th>customer_ID</th>\n",
       "      <th></th>\n",
       "      <th></th>\n",
       "      <th></th>\n",
       "      <th></th>\n",
       "      <th></th>\n",
       "      <th></th>\n",
       "      <th></th>\n",
       "      <th></th>\n",
       "      <th></th>\n",
       "      <th></th>\n",
       "      <th></th>\n",
       "      <th></th>\n",
       "      <th></th>\n",
       "      <th></th>\n",
       "      <th></th>\n",
       "      <th></th>\n",
       "      <th></th>\n",
       "      <th></th>\n",
       "      <th></th>\n",
       "      <th></th>\n",
       "      <th></th>\n",
       "    </tr>\n",
       "  </thead>\n",
       "  <tbody>\n",
       "    <tr>\n",
       "      <th>9bd44ca1f2f84150e5bd4b763c09cd138eeba13750cf88350578cd8b8a012bd1</th>\n",
       "      <td>0.516113</td>\n",
       "      <td>0.097046</td>\n",
       "      <td>0.138062</td>\n",
       "      <td>0.085510</td>\n",
       "      <td>0.004734</td>\n",
       "      <td>0.119812</td>\n",
       "      <td>0.003475</td>\n",
       "      <td>0.388916</td>\n",
       "      <td>0.377441</td>\n",
       "      <td>0.631836</td>\n",
       "      <td>...</td>\n",
       "      <td>1.001953</td>\n",
       "      <td>0.009758</td>\n",
       "      <td>0.006367</td>\n",
       "      <td>0.000141</td>\n",
       "      <td>0.004658</td>\n",
       "      <td>0.005013</td>\n",
       "      <td>0.006992</td>\n",
       "      <td>0.004738</td>\n",
       "      <td>0.003790</td>\n",
       "      <td>0.006172</td>\n",
       "    </tr>\n",
       "    <tr>\n",
       "      <th>30321b4a8b80d3429ce16322d5e46bf3de1d9b3ccecdd40c37578a913d698ba5</th>\n",
       "      <td>0.480225</td>\n",
       "      <td>0.774414</td>\n",
       "      <td>0.009285</td>\n",
       "      <td>0.232788</td>\n",
       "      <td>0.004555</td>\n",
       "      <td>0.161377</td>\n",
       "      <td>0.007545</td>\n",
       "      <td>0.067322</td>\n",
       "      <td>0.128662</td>\n",
       "      <td>0.030167</td>\n",
       "      <td>...</td>\n",
       "      <td>1.000000</td>\n",
       "      <td>0.007587</td>\n",
       "      <td>0.005093</td>\n",
       "      <td>0.000281</td>\n",
       "      <td>0.008339</td>\n",
       "      <td>0.006248</td>\n",
       "      <td>0.000399</td>\n",
       "      <td>0.002218</td>\n",
       "      <td>0.005753</td>\n",
       "      <td>0.008446</td>\n",
       "    </tr>\n",
       "    <tr>\n",
       "      <th>ccb34362035900506354729bb17636558cadb1dfed6a617b8dd1e864ecc8d650</th>\n",
       "      <td>0.917969</td>\n",
       "      <td>0.007545</td>\n",
       "      <td>0.006870</td>\n",
       "      <td>1.007812</td>\n",
       "      <td>0.004829</td>\n",
       "      <td>0.150879</td>\n",
       "      <td>0.006092</td>\n",
       "      <td>0.015457</td>\n",
       "      <td>0.006618</td>\n",
       "      <td>0.015053</td>\n",
       "      <td>...</td>\n",
       "      <td>0.005711</td>\n",
       "      <td>0.008308</td>\n",
       "      <td>1.006836</td>\n",
       "      <td>0.008163</td>\n",
       "      <td>0.006931</td>\n",
       "      <td>0.000503</td>\n",
       "      <td>0.007233</td>\n",
       "      <td>0.003401</td>\n",
       "      <td>0.009064</td>\n",
       "      <td>0.007889</td>\n",
       "    </tr>\n",
       "    <tr>\n",
       "      <th>972243d1b0a2ea4dcda2427ebd31db9b8ccddb5b78ee673ff2a47058485fd629</th>\n",
       "      <td>0.764648</td>\n",
       "      <td>0.479492</td>\n",
       "      <td>0.017593</td>\n",
       "      <td>1.008789</td>\n",
       "      <td>0.003031</td>\n",
       "      <td>0.025970</td>\n",
       "      <td>0.009186</td>\n",
       "      <td>0.002382</td>\n",
       "      <td>0.132812</td>\n",
       "      <td>0.645996</td>\n",
       "      <td>...</td>\n",
       "      <td>0.009903</td>\n",
       "      <td>0.009026</td>\n",
       "      <td>1.008789</td>\n",
       "      <td>0.998535</td>\n",
       "      <td>0.393311</td>\n",
       "      <td>0.000484</td>\n",
       "      <td>0.006371</td>\n",
       "      <td>0.002411</td>\n",
       "      <td>0.009789</td>\n",
       "      <td>0.003139</td>\n",
       "    </tr>\n",
       "    <tr>\n",
       "      <th>44fb840a4e521cc42f809c571bab9d438b7c863d6dc043d65df2b464b7a92d9f</th>\n",
       "      <td>0.516602</td>\n",
       "      <td>0.656738</td>\n",
       "      <td>0.418701</td>\n",
       "      <td>0.030960</td>\n",
       "      <td>0.757812</td>\n",
       "      <td>0.761230</td>\n",
       "      <td>0.009514</td>\n",
       "      <td>0.774902</td>\n",
       "      <td>0.754883</td>\n",
       "      <td>0.711914</td>\n",
       "      <td>...</td>\n",
       "      <td>1.005859</td>\n",
       "      <td>0.007210</td>\n",
       "      <td>1.009766</td>\n",
       "      <td>0.007805</td>\n",
       "      <td>0.001237</td>\n",
       "      <td>0.000468</td>\n",
       "      <td>0.007271</td>\n",
       "      <td>0.009758</td>\n",
       "      <td>0.005482</td>\n",
       "      <td>0.005642</td>\n",
       "    </tr>\n",
       "    <tr>\n",
       "      <th>...</th>\n",
       "      <td>...</td>\n",
       "      <td>...</td>\n",
       "      <td>...</td>\n",
       "      <td>...</td>\n",
       "      <td>...</td>\n",
       "      <td>...</td>\n",
       "      <td>...</td>\n",
       "      <td>...</td>\n",
       "      <td>...</td>\n",
       "      <td>...</td>\n",
       "      <td>...</td>\n",
       "      <td>...</td>\n",
       "      <td>...</td>\n",
       "      <td>...</td>\n",
       "      <td>...</td>\n",
       "      <td>...</td>\n",
       "      <td>...</td>\n",
       "      <td>...</td>\n",
       "      <td>...</td>\n",
       "      <td>...</td>\n",
       "      <td>...</td>\n",
       "    </tr>\n",
       "    <tr>\n",
       "      <th>bcced58957ffcc297512f4ee7d51dcf9f9f80e2f34b8d91b38112cf1a7a9b9e4</th>\n",
       "      <td>0.279053</td>\n",
       "      <td>0.036743</td>\n",
       "      <td>0.259766</td>\n",
       "      <td>0.025146</td>\n",
       "      <td>0.000261</td>\n",
       "      <td>0.173950</td>\n",
       "      <td>0.006100</td>\n",
       "      <td>0.730469</td>\n",
       "      <td>0.882812</td>\n",
       "      <td>0.804199</td>\n",
       "      <td>...</td>\n",
       "      <td>1.006836</td>\n",
       "      <td>0.009735</td>\n",
       "      <td>1.000977</td>\n",
       "      <td>0.007809</td>\n",
       "      <td>0.001313</td>\n",
       "      <td>0.001293</td>\n",
       "      <td>0.008934</td>\n",
       "      <td>0.007343</td>\n",
       "      <td>0.004494</td>\n",
       "      <td>0.009529</td>\n",
       "    </tr>\n",
       "    <tr>\n",
       "      <th>7c3847b6382892f5c198a908fc4a1342f471ba7e2562f3509a1b64c7225392b6</th>\n",
       "      <td>0.348633</td>\n",
       "      <td>0.388184</td>\n",
       "      <td>0.028809</td>\n",
       "      <td>0.401611</td>\n",
       "      <td>0.008461</td>\n",
       "      <td>2.992188</td>\n",
       "      <td>0.867188</td>\n",
       "      <td>0.094666</td>\n",
       "      <td>0.627930</td>\n",
       "      <td>0.312012</td>\n",
       "      <td>...</td>\n",
       "      <td>1.000977</td>\n",
       "      <td>0.003057</td>\n",
       "      <td>0.008034</td>\n",
       "      <td>0.001480</td>\n",
       "      <td>0.006527</td>\n",
       "      <td>0.006973</td>\n",
       "      <td>0.006828</td>\n",
       "      <td>0.008919</td>\n",
       "      <td>0.002354</td>\n",
       "      <td>0.004658</td>\n",
       "    </tr>\n",
       "    <tr>\n",
       "      <th>9722ce1374e54306b3a0e4d0c27453eb788072c49f9a63bb79f394e31d865c84</th>\n",
       "      <td>0.715820</td>\n",
       "      <td>0.265137</td>\n",
       "      <td>0.007965</td>\n",
       "      <td>0.816895</td>\n",
       "      <td>0.002092</td>\n",
       "      <td>0.137451</td>\n",
       "      <td>0.007675</td>\n",
       "      <td>0.008987</td>\n",
       "      <td>0.000676</td>\n",
       "      <td>0.019135</td>\n",
       "      <td>...</td>\n",
       "      <td>0.009964</td>\n",
       "      <td>0.001906</td>\n",
       "      <td>0.009804</td>\n",
       "      <td>0.005119</td>\n",
       "      <td>0.002993</td>\n",
       "      <td>0.001152</td>\n",
       "      <td>0.008934</td>\n",
       "      <td>0.000588</td>\n",
       "      <td>0.002995</td>\n",
       "      <td>0.004997</td>\n",
       "    </tr>\n",
       "    <tr>\n",
       "      <th>46f25716efd9c47422d0b7d1b87369a1f94cc0bcefce0a79e55966a1be67ff4e</th>\n",
       "      <td>0.642578</td>\n",
       "      <td>0.008255</td>\n",
       "      <td>0.168335</td>\n",
       "      <td>0.816895</td>\n",
       "      <td>0.009079</td>\n",
       "      <td>0.196655</td>\n",
       "      <td>0.003271</td>\n",
       "      <td>0.005402</td>\n",
       "      <td>0.005688</td>\n",
       "      <td>0.111450</td>\n",
       "      <td>...</td>\n",
       "      <td>0.009285</td>\n",
       "      <td>0.009361</td>\n",
       "      <td>0.004078</td>\n",
       "      <td>0.003099</td>\n",
       "      <td>0.000169</td>\n",
       "      <td>0.001531</td>\n",
       "      <td>0.007263</td>\n",
       "      <td>0.003910</td>\n",
       "      <td>0.007538</td>\n",
       "      <td>0.001724</td>\n",
       "    </tr>\n",
       "    <tr>\n",
       "      <th>cdc2d27957f60a8f44d9e802dc9a2b96aa430618284a931944e2e401b9555d66</th>\n",
       "      <td>0.358643</td>\n",
       "      <td>0.038452</td>\n",
       "      <td>0.165039</td>\n",
       "      <td>0.066956</td>\n",
       "      <td>0.005287</td>\n",
       "      <td>0.266846</td>\n",
       "      <td>0.008980</td>\n",
       "      <td>0.140625</td>\n",
       "      <td>0.004807</td>\n",
       "      <td>0.154663</td>\n",
       "      <td>...</td>\n",
       "      <td>0.006233</td>\n",
       "      <td>0.004845</td>\n",
       "      <td>0.009682</td>\n",
       "      <td>0.007729</td>\n",
       "      <td>0.001159</td>\n",
       "      <td>0.001510</td>\n",
       "      <td>0.008034</td>\n",
       "      <td>0.004261</td>\n",
       "      <td>0.007626</td>\n",
       "      <td>0.004860</td>\n",
       "    </tr>\n",
       "  </tbody>\n",
       "</table>\n",
       "<p>321239 rows × 141 columns</p>\n",
       "</div>"
      ],
      "text/plain": [
       "                                                         P_2      D_39  \\\n",
       "customer_ID                                                              \n",
       "9bd44ca1f2f84150e5bd4b763c09cd138eeba13750cf883...  0.516113  0.097046   \n",
       "30321b4a8b80d3429ce16322d5e46bf3de1d9b3ccecdd40...  0.480225  0.774414   \n",
       "ccb34362035900506354729bb17636558cadb1dfed6a617...  0.917969  0.007545   \n",
       "972243d1b0a2ea4dcda2427ebd31db9b8ccddb5b78ee673...  0.764648  0.479492   \n",
       "44fb840a4e521cc42f809c571bab9d438b7c863d6dc043d...  0.516602  0.656738   \n",
       "...                                                      ...       ...   \n",
       "bcced58957ffcc297512f4ee7d51dcf9f9f80e2f34b8d91...  0.279053  0.036743   \n",
       "7c3847b6382892f5c198a908fc4a1342f471ba7e2562f35...  0.348633  0.388184   \n",
       "9722ce1374e54306b3a0e4d0c27453eb788072c49f9a63b...  0.715820  0.265137   \n",
       "46f25716efd9c47422d0b7d1b87369a1f94cc0bcefce0a7...  0.642578  0.008255   \n",
       "cdc2d27957f60a8f44d9e802dc9a2b96aa430618284a931...  0.358643  0.038452   \n",
       "\n",
       "                                                         B_1       B_2  \\\n",
       "customer_ID                                                              \n",
       "9bd44ca1f2f84150e5bd4b763c09cd138eeba13750cf883...  0.138062  0.085510   \n",
       "30321b4a8b80d3429ce16322d5e46bf3de1d9b3ccecdd40...  0.009285  0.232788   \n",
       "ccb34362035900506354729bb17636558cadb1dfed6a617...  0.006870  1.007812   \n",
       "972243d1b0a2ea4dcda2427ebd31db9b8ccddb5b78ee673...  0.017593  1.008789   \n",
       "44fb840a4e521cc42f809c571bab9d438b7c863d6dc043d...  0.418701  0.030960   \n",
       "...                                                      ...       ...   \n",
       "bcced58957ffcc297512f4ee7d51dcf9f9f80e2f34b8d91...  0.259766  0.025146   \n",
       "7c3847b6382892f5c198a908fc4a1342f471ba7e2562f35...  0.028809  0.401611   \n",
       "9722ce1374e54306b3a0e4d0c27453eb788072c49f9a63b...  0.007965  0.816895   \n",
       "46f25716efd9c47422d0b7d1b87369a1f94cc0bcefce0a7...  0.168335  0.816895   \n",
       "cdc2d27957f60a8f44d9e802dc9a2b96aa430618284a931...  0.165039  0.066956   \n",
       "\n",
       "                                                         R_1       S_3  \\\n",
       "customer_ID                                                              \n",
       "9bd44ca1f2f84150e5bd4b763c09cd138eeba13750cf883...  0.004734  0.119812   \n",
       "30321b4a8b80d3429ce16322d5e46bf3de1d9b3ccecdd40...  0.004555  0.161377   \n",
       "ccb34362035900506354729bb17636558cadb1dfed6a617...  0.004829  0.150879   \n",
       "972243d1b0a2ea4dcda2427ebd31db9b8ccddb5b78ee673...  0.003031  0.025970   \n",
       "44fb840a4e521cc42f809c571bab9d438b7c863d6dc043d...  0.757812  0.761230   \n",
       "...                                                      ...       ...   \n",
       "bcced58957ffcc297512f4ee7d51dcf9f9f80e2f34b8d91...  0.000261  0.173950   \n",
       "7c3847b6382892f5c198a908fc4a1342f471ba7e2562f35...  0.008461  2.992188   \n",
       "9722ce1374e54306b3a0e4d0c27453eb788072c49f9a63b...  0.002092  0.137451   \n",
       "46f25716efd9c47422d0b7d1b87369a1f94cc0bcefce0a7...  0.009079  0.196655   \n",
       "cdc2d27957f60a8f44d9e802dc9a2b96aa430618284a931...  0.005287  0.266846   \n",
       "\n",
       "                                                        D_41       B_3  \\\n",
       "customer_ID                                                              \n",
       "9bd44ca1f2f84150e5bd4b763c09cd138eeba13750cf883...  0.003475  0.388916   \n",
       "30321b4a8b80d3429ce16322d5e46bf3de1d9b3ccecdd40...  0.007545  0.067322   \n",
       "ccb34362035900506354729bb17636558cadb1dfed6a617...  0.006092  0.015457   \n",
       "972243d1b0a2ea4dcda2427ebd31db9b8ccddb5b78ee673...  0.009186  0.002382   \n",
       "44fb840a4e521cc42f809c571bab9d438b7c863d6dc043d...  0.009514  0.774902   \n",
       "...                                                      ...       ...   \n",
       "bcced58957ffcc297512f4ee7d51dcf9f9f80e2f34b8d91...  0.006100  0.730469   \n",
       "7c3847b6382892f5c198a908fc4a1342f471ba7e2562f35...  0.867188  0.094666   \n",
       "9722ce1374e54306b3a0e4d0c27453eb788072c49f9a63b...  0.007675  0.008987   \n",
       "46f25716efd9c47422d0b7d1b87369a1f94cc0bcefce0a7...  0.003271  0.005402   \n",
       "cdc2d27957f60a8f44d9e802dc9a2b96aa430618284a931...  0.008980  0.140625   \n",
       "\n",
       "                                                        D_44       B_4  ...  \\\n",
       "customer_ID                                                             ...   \n",
       "9bd44ca1f2f84150e5bd4b763c09cd138eeba13750cf883...  0.377441  0.631836  ...   \n",
       "30321b4a8b80d3429ce16322d5e46bf3de1d9b3ccecdd40...  0.128662  0.030167  ...   \n",
       "ccb34362035900506354729bb17636558cadb1dfed6a617...  0.006618  0.015053  ...   \n",
       "972243d1b0a2ea4dcda2427ebd31db9b8ccddb5b78ee673...  0.132812  0.645996  ...   \n",
       "44fb840a4e521cc42f809c571bab9d438b7c863d6dc043d...  0.754883  0.711914  ...   \n",
       "...                                                      ...       ...  ...   \n",
       "bcced58957ffcc297512f4ee7d51dcf9f9f80e2f34b8d91...  0.882812  0.804199  ...   \n",
       "7c3847b6382892f5c198a908fc4a1342f471ba7e2562f35...  0.627930  0.312012  ...   \n",
       "9722ce1374e54306b3a0e4d0c27453eb788072c49f9a63b...  0.000676  0.019135  ...   \n",
       "46f25716efd9c47422d0b7d1b87369a1f94cc0bcefce0a7...  0.005688  0.111450  ...   \n",
       "cdc2d27957f60a8f44d9e802dc9a2b96aa430618284a931...  0.004807  0.154663  ...   \n",
       "\n",
       "                                                       D_129      B_41  \\\n",
       "customer_ID                                                              \n",
       "9bd44ca1f2f84150e5bd4b763c09cd138eeba13750cf883...  1.001953  0.009758   \n",
       "30321b4a8b80d3429ce16322d5e46bf3de1d9b3ccecdd40...  1.000000  0.007587   \n",
       "ccb34362035900506354729bb17636558cadb1dfed6a617...  0.005711  0.008308   \n",
       "972243d1b0a2ea4dcda2427ebd31db9b8ccddb5b78ee673...  0.009903  0.009026   \n",
       "44fb840a4e521cc42f809c571bab9d438b7c863d6dc043d...  1.005859  0.007210   \n",
       "...                                                      ...       ...   \n",
       "bcced58957ffcc297512f4ee7d51dcf9f9f80e2f34b8d91...  1.006836  0.009735   \n",
       "7c3847b6382892f5c198a908fc4a1342f471ba7e2562f35...  1.000977  0.003057   \n",
       "9722ce1374e54306b3a0e4d0c27453eb788072c49f9a63b...  0.009964  0.001906   \n",
       "46f25716efd9c47422d0b7d1b87369a1f94cc0bcefce0a7...  0.009285  0.009361   \n",
       "cdc2d27957f60a8f44d9e802dc9a2b96aa430618284a931...  0.006233  0.004845   \n",
       "\n",
       "                                                       D_130     D_131  \\\n",
       "customer_ID                                                              \n",
       "9bd44ca1f2f84150e5bd4b763c09cd138eeba13750cf883...  0.006367  0.000141   \n",
       "30321b4a8b80d3429ce16322d5e46bf3de1d9b3ccecdd40...  0.005093  0.000281   \n",
       "ccb34362035900506354729bb17636558cadb1dfed6a617...  1.006836  0.008163   \n",
       "972243d1b0a2ea4dcda2427ebd31db9b8ccddb5b78ee673...  1.008789  0.998535   \n",
       "44fb840a4e521cc42f809c571bab9d438b7c863d6dc043d...  1.009766  0.007805   \n",
       "...                                                      ...       ...   \n",
       "bcced58957ffcc297512f4ee7d51dcf9f9f80e2f34b8d91...  1.000977  0.007809   \n",
       "7c3847b6382892f5c198a908fc4a1342f471ba7e2562f35...  0.008034  0.001480   \n",
       "9722ce1374e54306b3a0e4d0c27453eb788072c49f9a63b...  0.009804  0.005119   \n",
       "46f25716efd9c47422d0b7d1b87369a1f94cc0bcefce0a7...  0.004078  0.003099   \n",
       "cdc2d27957f60a8f44d9e802dc9a2b96aa430618284a931...  0.009682  0.007729   \n",
       "\n",
       "                                                       D_133      R_28  \\\n",
       "customer_ID                                                              \n",
       "9bd44ca1f2f84150e5bd4b763c09cd138eeba13750cf883...  0.004658  0.005013   \n",
       "30321b4a8b80d3429ce16322d5e46bf3de1d9b3ccecdd40...  0.008339  0.006248   \n",
       "ccb34362035900506354729bb17636558cadb1dfed6a617...  0.006931  0.000503   \n",
       "972243d1b0a2ea4dcda2427ebd31db9b8ccddb5b78ee673...  0.393311  0.000484   \n",
       "44fb840a4e521cc42f809c571bab9d438b7c863d6dc043d...  0.001237  0.000468   \n",
       "...                                                      ...       ...   \n",
       "bcced58957ffcc297512f4ee7d51dcf9f9f80e2f34b8d91...  0.001313  0.001293   \n",
       "7c3847b6382892f5c198a908fc4a1342f471ba7e2562f35...  0.006527  0.006973   \n",
       "9722ce1374e54306b3a0e4d0c27453eb788072c49f9a63b...  0.002993  0.001152   \n",
       "46f25716efd9c47422d0b7d1b87369a1f94cc0bcefce0a7...  0.000169  0.001531   \n",
       "cdc2d27957f60a8f44d9e802dc9a2b96aa430618284a931...  0.001159  0.001510   \n",
       "\n",
       "                                                       D_139     D_140  \\\n",
       "customer_ID                                                              \n",
       "9bd44ca1f2f84150e5bd4b763c09cd138eeba13750cf883...  0.006992  0.004738   \n",
       "30321b4a8b80d3429ce16322d5e46bf3de1d9b3ccecdd40...  0.000399  0.002218   \n",
       "ccb34362035900506354729bb17636558cadb1dfed6a617...  0.007233  0.003401   \n",
       "972243d1b0a2ea4dcda2427ebd31db9b8ccddb5b78ee673...  0.006371  0.002411   \n",
       "44fb840a4e521cc42f809c571bab9d438b7c863d6dc043d...  0.007271  0.009758   \n",
       "...                                                      ...       ...   \n",
       "bcced58957ffcc297512f4ee7d51dcf9f9f80e2f34b8d91...  0.008934  0.007343   \n",
       "7c3847b6382892f5c198a908fc4a1342f471ba7e2562f35...  0.006828  0.008919   \n",
       "9722ce1374e54306b3a0e4d0c27453eb788072c49f9a63b...  0.008934  0.000588   \n",
       "46f25716efd9c47422d0b7d1b87369a1f94cc0bcefce0a7...  0.007263  0.003910   \n",
       "cdc2d27957f60a8f44d9e802dc9a2b96aa430618284a931...  0.008034  0.004261   \n",
       "\n",
       "                                                       D_144     D_145  \n",
       "customer_ID                                                             \n",
       "9bd44ca1f2f84150e5bd4b763c09cd138eeba13750cf883...  0.003790  0.006172  \n",
       "30321b4a8b80d3429ce16322d5e46bf3de1d9b3ccecdd40...  0.005753  0.008446  \n",
       "ccb34362035900506354729bb17636558cadb1dfed6a617...  0.009064  0.007889  \n",
       "972243d1b0a2ea4dcda2427ebd31db9b8ccddb5b78ee673...  0.009789  0.003139  \n",
       "44fb840a4e521cc42f809c571bab9d438b7c863d6dc043d...  0.005482  0.005642  \n",
       "...                                                      ...       ...  \n",
       "bcced58957ffcc297512f4ee7d51dcf9f9f80e2f34b8d91...  0.004494  0.009529  \n",
       "7c3847b6382892f5c198a908fc4a1342f471ba7e2562f35...  0.002354  0.004658  \n",
       "9722ce1374e54306b3a0e4d0c27453eb788072c49f9a63b...  0.002995  0.004997  \n",
       "46f25716efd9c47422d0b7d1b87369a1f94cc0bcefce0a7...  0.007538  0.001724  \n",
       "cdc2d27957f60a8f44d9e802dc9a2b96aa430618284a931...  0.007626  0.004860  \n",
       "\n",
       "[321239 rows x 141 columns]"
      ]
     },
     "execution_count": 14,
     "metadata": {},
     "output_type": "execute_result"
    }
   ],
   "source": [
    "x_train"
   ]
  },
  {
   "cell_type": "code",
   "execution_count": 15,
   "id": "e52717ec",
   "metadata": {
    "execution": {
     "iopub.execute_input": "2023-01-13T13:14:29.696462Z",
     "iopub.status.busy": "2023-01-13T13:14:29.696138Z",
     "iopub.status.idle": "2023-01-13T13:14:29.699879Z",
     "shell.execute_reply": "2023-01-13T13:14:29.698994Z"
    },
    "papermill": {
     "duration": 0.013905,
     "end_time": "2023-01-13T13:14:29.701608",
     "exception": false,
     "start_time": "2023-01-13T13:14:29.687703",
     "status": "completed"
    },
    "tags": []
   },
   "outputs": [],
   "source": [
    "# import lightgbm as lgb\n",
    "\n",
    "# d_train = lgb.Dataset(x_train, label=y_train, categorical_feature = categories)\n",
    "\n",
    "# params = {'objective': 'binary','n_estimators': 1200,'metric': 'binary_logloss','boosting': 'gbdt','num_leaves': 90,'reg_lambda' : 50,'colsample_bytree': 0.19,'learning_rate': 0.03,'min_child_samples': 2400,'max_bins': 511,'seed': 42,'verbose': -1}\n",
    "\n",
    "# # trained model with 100 iterations\n",
    "# model = lgb.train(params, d_train, 100)"
   ]
  },
  {
   "cell_type": "code",
   "execution_count": 16,
   "id": "1597e810",
   "metadata": {
    "execution": {
     "iopub.execute_input": "2023-01-13T13:14:29.717596Z",
     "iopub.status.busy": "2023-01-13T13:14:29.717232Z",
     "iopub.status.idle": "2023-01-13T14:29:02.939302Z",
     "shell.execute_reply": "2023-01-13T14:29:02.936872Z"
    },
    "papermill": {
     "duration": 4473.233401,
     "end_time": "2023-01-13T14:29:02.942263",
     "exception": false,
     "start_time": "2023-01-13T13:14:29.708862",
     "status": "completed"
    },
    "tags": []
   },
   "outputs": [],
   "source": [
    "from sklearn import svm\n",
    "model = svm.SVC(kernel='sigmoid').fit(x_train, y_train)\n"
   ]
  },
  {
   "cell_type": "code",
   "execution_count": 17,
   "id": "6beef11d",
   "metadata": {
    "execution": {
     "iopub.execute_input": "2023-01-13T14:29:02.959205Z",
     "iopub.status.busy": "2023-01-13T14:29:02.958785Z",
     "iopub.status.idle": "2023-01-13T14:29:02.964419Z",
     "shell.execute_reply": "2023-01-13T14:29:02.963357Z"
    },
    "papermill": {
     "duration": 0.017188,
     "end_time": "2023-01-13T14:29:02.966882",
     "exception": false,
     "start_time": "2023-01-13T14:29:02.949694",
     "status": "completed"
    },
    "tags": []
   },
   "outputs": [],
   "source": [
    "# #Import knearest neighbors Classifier model\n",
    "# from sklearn.neighbors import KNeighborsClassifier\n",
    "\n",
    "# #Create KNN Classifier\n",
    "# model = KNeighborsClassifier(n_neighbors=11).fit(x_train, y_train)\n"
   ]
  },
  {
   "cell_type": "code",
   "execution_count": 18,
   "id": "876a64df",
   "metadata": {
    "execution": {
     "iopub.execute_input": "2023-01-13T14:29:02.983804Z",
     "iopub.status.busy": "2023-01-13T14:29:02.983412Z",
     "iopub.status.idle": "2023-01-13T14:29:41.423341Z",
     "shell.execute_reply": "2023-01-13T14:29:41.422627Z"
    },
    "papermill": {
     "duration": 38.451167,
     "end_time": "2023-01-13T14:29:41.425675",
     "exception": false,
     "start_time": "2023-01-13T14:29:02.974508",
     "status": "completed"
    },
    "tags": []
   },
   "outputs": [],
   "source": [
    "test_dataset_ = pd.read_feather('/kaggle/input/amexfeather/test_data.ftr')\n"
   ]
  },
  {
   "cell_type": "code",
   "execution_count": 19,
   "id": "0c3446ed",
   "metadata": {
    "execution": {
     "iopub.execute_input": "2023-01-13T14:29:41.442465Z",
     "iopub.status.busy": "2023-01-13T14:29:41.441879Z",
     "iopub.status.idle": "2023-01-13T14:29:45.592949Z",
     "shell.execute_reply": "2023-01-13T14:29:45.592115Z"
    },
    "papermill": {
     "duration": 4.161954,
     "end_time": "2023-01-13T14:29:45.595184",
     "exception": false,
     "start_time": "2023-01-13T14:29:41.433230",
     "status": "completed"
    },
    "tags": []
   },
   "outputs": [],
   "source": [
    "test_dataset = test_dataset_.groupby('customer_ID').tail(1).set_index('customer_ID', drop=True).sort_index()"
   ]
  },
  {
   "cell_type": "code",
   "execution_count": 20,
   "id": "c2793e23",
   "metadata": {
    "execution": {
     "iopub.execute_input": "2023-01-13T14:29:45.611333Z",
     "iopub.status.busy": "2023-01-13T14:29:45.610764Z",
     "iopub.status.idle": "2023-01-13T14:29:45.616185Z",
     "shell.execute_reply": "2023-01-13T14:29:45.614901Z"
    },
    "papermill": {
     "duration": 0.016708,
     "end_time": "2023-01-13T14:29:45.619000",
     "exception": false,
     "start_time": "2023-01-13T14:29:45.602292",
     "status": "completed"
    },
    "tags": []
   },
   "outputs": [],
   "source": [
    "num_columns = [col for col in X.columns]"
   ]
  },
  {
   "cell_type": "code",
   "execution_count": 21,
   "id": "9d98e6b9",
   "metadata": {
    "execution": {
     "iopub.execute_input": "2023-01-13T14:29:45.636367Z",
     "iopub.status.busy": "2023-01-13T14:29:45.635816Z",
     "iopub.status.idle": "2023-01-13T14:29:45.811701Z",
     "shell.execute_reply": "2023-01-13T14:29:45.810845Z"
    },
    "papermill": {
     "duration": 0.187617,
     "end_time": "2023-01-13T14:29:45.814031",
     "exception": false,
     "start_time": "2023-01-13T14:29:45.626414",
     "status": "completed"
    },
    "tags": []
   },
   "outputs": [],
   "source": [
    "test_dataset=test_dataset[num_columns]"
   ]
  },
  {
   "cell_type": "code",
   "execution_count": 22,
   "id": "2c21a12f",
   "metadata": {
    "execution": {
     "iopub.execute_input": "2023-01-13T14:29:45.830456Z",
     "iopub.status.busy": "2023-01-13T14:29:45.830077Z",
     "iopub.status.idle": "2023-01-13T14:29:46.581997Z",
     "shell.execute_reply": "2023-01-13T14:29:46.580778Z"
    },
    "papermill": {
     "duration": 0.762716,
     "end_time": "2023-01-13T14:29:46.584224",
     "exception": false,
     "start_time": "2023-01-13T14:29:45.821508",
     "status": "completed"
    },
    "tags": []
   },
   "outputs": [],
   "source": [
    "enc = LabelEncoder()\n",
    "for categorical_column in test_dataset.select_dtypes(include=['category','object']).columns:\n",
    "    test_dataset[categorical_column]=enc.fit_transform(test_dataset[categorical_column])"
   ]
  },
  {
   "cell_type": "code",
   "execution_count": 23,
   "id": "4c3b3d47",
   "metadata": {
    "execution": {
     "iopub.execute_input": "2023-01-13T14:29:46.601941Z",
     "iopub.status.busy": "2023-01-13T14:29:46.601562Z",
     "iopub.status.idle": "2023-01-13T14:29:47.026321Z",
     "shell.execute_reply": "2023-01-13T14:29:47.024658Z"
    },
    "papermill": {
     "duration": 0.436397,
     "end_time": "2023-01-13T14:29:47.029188",
     "exception": false,
     "start_time": "2023-01-13T14:29:46.592791",
     "status": "completed"
    },
    "tags": []
   },
   "outputs": [],
   "source": [
    "for category in categories:\n",
    "    test_dataset[category]=test_dataset[category].fillna(test_dataset[category].mode())"
   ]
  },
  {
   "cell_type": "code",
   "execution_count": 24,
   "id": "59ec7a5f",
   "metadata": {
    "execution": {
     "iopub.execute_input": "2023-01-13T14:29:47.047733Z",
     "iopub.status.busy": "2023-01-13T14:29:47.047231Z",
     "iopub.status.idle": "2023-01-13T14:29:49.983988Z",
     "shell.execute_reply": "2023-01-13T14:29:49.981310Z"
    },
    "papermill": {
     "duration": 2.952666,
     "end_time": "2023-01-13T14:29:49.989271",
     "exception": false,
     "start_time": "2023-01-13T14:29:47.036605",
     "status": "completed"
    },
    "tags": []
   },
   "outputs": [],
   "source": [
    "for column in test_dataset.columns:\n",
    "    if(column not in categories):\n",
    "#         print(column)\n",
    "        test_dataset[column]=test_dataset[column].fillna(test_dataset[column].median())"
   ]
  },
  {
   "cell_type": "code",
   "execution_count": 25,
   "id": "74fce2b0",
   "metadata": {
    "execution": {
     "iopub.execute_input": "2023-01-13T14:29:50.010749Z",
     "iopub.status.busy": "2023-01-13T14:29:50.009358Z",
     "iopub.status.idle": "2023-01-13T15:49:20.564147Z",
     "shell.execute_reply": "2023-01-13T15:49:20.557156Z"
    },
    "papermill": {
     "duration": 4770.576418,
     "end_time": "2023-01-13T15:49:20.576067",
     "exception": false,
     "start_time": "2023-01-13T14:29:49.999649",
     "status": "completed"
    },
    "tags": []
   },
   "outputs": [],
   "source": [
    "y_pred = model.predict(test_dataset)"
   ]
  },
  {
   "cell_type": "code",
   "execution_count": 26,
   "id": "425f3bc1",
   "metadata": {
    "execution": {
     "iopub.execute_input": "2023-01-13T15:49:20.608497Z",
     "iopub.status.busy": "2023-01-13T15:49:20.607767Z",
     "iopub.status.idle": "2023-01-13T15:49:20.644755Z",
     "shell.execute_reply": "2023-01-13T15:49:20.643603Z"
    },
    "papermill": {
     "duration": 0.051924,
     "end_time": "2023-01-13T15:49:20.647435",
     "exception": false,
     "start_time": "2023-01-13T15:49:20.595511",
     "status": "completed"
    },
    "tags": []
   },
   "outputs": [],
   "source": [
    "output = pd.DataFrame({'customer_ID': test_dataset.index, 'prediction': y_pred})\n"
   ]
  },
  {
   "cell_type": "code",
   "execution_count": 27,
   "id": "017e7562",
   "metadata": {
    "execution": {
     "iopub.execute_input": "2023-01-13T15:49:20.663674Z",
     "iopub.status.busy": "2023-01-13T15:49:20.663249Z",
     "iopub.status.idle": "2023-01-13T15:49:20.678636Z",
     "shell.execute_reply": "2023-01-13T15:49:20.677320Z"
    },
    "papermill": {
     "duration": 0.03012,
     "end_time": "2023-01-13T15:49:20.684893",
     "exception": false,
     "start_time": "2023-01-13T15:49:20.654773",
     "status": "completed"
    },
    "tags": []
   },
   "outputs": [
    {
     "name": "stdout",
     "output_type": "stream",
     "text": [
      "/kaggle/working\n"
     ]
    }
   ],
   "source": [
    "cd /kaggle/working/"
   ]
  },
  {
   "cell_type": "code",
   "execution_count": 28,
   "id": "5e92737a",
   "metadata": {
    "execution": {
     "iopub.execute_input": "2023-01-13T15:49:20.700866Z",
     "iopub.status.busy": "2023-01-13T15:49:20.700478Z",
     "iopub.status.idle": "2023-01-13T15:49:22.143738Z",
     "shell.execute_reply": "2023-01-13T15:49:22.141718Z"
    },
    "papermill": {
     "duration": 1.45417,
     "end_time": "2023-01-13T15:49:22.146435",
     "exception": false,
     "start_time": "2023-01-13T15:49:20.692265",
     "status": "completed"
    },
    "tags": []
   },
   "outputs": [],
   "source": [
    "output.to_csv('submission9.csv', index=False)"
   ]
  },
  {
   "cell_type": "code",
   "execution_count": null,
   "id": "4dc11b91",
   "metadata": {
    "papermill": {
     "duration": 0.00679,
     "end_time": "2023-01-13T15:49:22.160532",
     "exception": false,
     "start_time": "2023-01-13T15:49:22.153742",
     "status": "completed"
    },
    "tags": []
   },
   "outputs": [],
   "source": []
  }
 ],
 "metadata": {
  "kernelspec": {
   "display_name": "Python 3",
   "language": "python",
   "name": "python3"
  },
  "language_info": {
   "codemirror_mode": {
    "name": "ipython",
    "version": 3
   },
   "file_extension": ".py",
   "mimetype": "text/x-python",
   "name": "python",
   "nbconvert_exporter": "python",
   "pygments_lexer": "ipython3",
   "version": "3.7.12"
  },
  "papermill": {
   "default_parameters": {},
   "duration": 9351.176497,
   "end_time": "2023-01-13T15:49:25.344095",
   "environment_variables": {},
   "exception": null,
   "input_path": "__notebook__.ipynb",
   "output_path": "__notebook__.ipynb",
   "parameters": {},
   "start_time": "2023-01-13T13:13:34.167598",
   "version": "2.3.4"
  }
 },
 "nbformat": 4,
 "nbformat_minor": 5
}
